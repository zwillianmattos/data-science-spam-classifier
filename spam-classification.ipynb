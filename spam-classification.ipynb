{
 "cells": [
  {
   "cell_type": "code",
   "execution_count": 1,
   "source": [
    "!pip3 install numpy"
   ],
   "outputs": [
    {
     "output_type": "stream",
     "name": "stdout",
     "text": [
      "Requirement already satisfied: numpy in c:\\users\\willi\\miniconda3\\lib\\site-packages (1.19.5)\n"
     ]
    }
   ],
   "metadata": {}
  },
  {
   "cell_type": "code",
   "execution_count": 2,
   "source": [
    "import os\r\n",
    "import io\r\n",
    "import numpy as np\r\n",
    "from pandas import DataFrame\r\n",
    "from sklearn.utils import shuffle\r\n",
    "from sklearn.feature_extraction.text import CountVectorizer\r\n",
    "from sklearn.naive_bayes import MultinomialNB\r\n",
    "from sklearn.metrics import accuracy_score\r\n",
    "from sklearn.metrics import precision_score\r\n",
    "from sklearn.metrics import recall_score\r\n",
    "from sklearn.metrics import f1_score"
   ],
   "outputs": [],
   "metadata": {}
  },
  {
   "cell_type": "code",
   "execution_count": 3,
   "source": [
    "def read_files(path):\r\n",
    "    for root, dir_names, file_names in os.walk(path):\r\n",
    "        for path in dir_names:\r\n",
    "            read_files(os.path.join(root, path))\r\n",
    "    for file_name in file_names:\r\n",
    "        if file_name not in set(['cmds']):\r\n",
    "            file_path = os.path.join(root, file_name)\r\n",
    "        if os.path.isfile(file_path):\r\n",
    "            past_header, lines = False, []\r\n",
    "            #f = open(file_path)\r\n",
    "            f = io.open(file_path, mode=\"r\", encoding=\"Latin-1\")\r\n",
    "            for line in f:\r\n",
    "                if past_header:\r\n",
    "                    lines.append(line)\r\n",
    "                elif line == '\\n':\r\n",
    "                    past_header = True\r\n",
    "            f.close()\r\n",
    "            yield file_path, '\\n'.join(lines)"
   ],
   "outputs": [],
   "metadata": {}
  },
  {
   "cell_type": "code",
   "execution_count": 4,
   "source": [
    "def build_data_frame(path, classification):\r\n",
    "    df = DataFrame({'text': [], 'class': []})\r\n",
    "    for file_name, text in read_files(path):\r\n",
    "        df = df.append(\r\n",
    "            DataFrame({'text': [text], 'class': [classification]}, index=[file_name]))\r\n",
    "    return df"
   ],
   "outputs": [],
   "metadata": {}
  },
  {
   "cell_type": "code",
   "execution_count": 5,
   "source": [
    "HAM = 0\r\n",
    "SPAM = 1\r\n",
    "\r\n",
    "SOURCES = [\r\n",
    "    ('data/spam',         SPAM),\r\n",
    "    ('data/spam_2',       SPAM),\r\n",
    "    ('data/easy_ham',     HAM),\r\n",
    "    ('data/hard_ham',     HAM),\r\n",
    "]\r\n",
    "\r\n",
    "data = DataFrame({'text': [], 'class': []})\r\n",
    "for path, classification in SOURCES:\r\n",
    "    data = data.append(build_data_frame(path, classification))"
   ],
   "outputs": [],
   "metadata": {}
  },
  {
   "cell_type": "code",
   "execution_count": 6,
   "source": [
    "data = shuffle(data)"
   ],
   "outputs": [],
   "metadata": {}
  },
  {
   "cell_type": "code",
   "execution_count": 7,
   "source": [
    "train = data.iloc[:4400]\r\n",
    "test = data.iloc[4400:]"
   ],
   "outputs": [],
   "metadata": {}
  },
  {
   "cell_type": "code",
   "execution_count": 8,
   "source": [
    "count_vectorizer = CountVectorizer()\r\n",
    "counts = count_vectorizer.fit_transform(np.asarray(data['text']))"
   ],
   "outputs": [],
   "metadata": {}
  },
  {
   "cell_type": "code",
   "execution_count": 9,
   "source": [
    "classifier = MultinomialNB()\r\n",
    "targets = np.asarray(data['class'])\r\n",
    "classifier.fit(counts, targets)"
   ],
   "outputs": [
    {
     "output_type": "execute_result",
     "data": {
      "text/plain": [
       "MultinomialNB()"
      ]
     },
     "metadata": {},
     "execution_count": 9
    }
   ],
   "metadata": {}
  },
  {
   "cell_type": "code",
   "execution_count": 10,
   "source": [
    "type(test['text'])"
   ],
   "outputs": [
    {
     "output_type": "execute_result",
     "data": {
      "text/plain": [
       "pandas.core.series.Series"
      ]
     },
     "metadata": {},
     "execution_count": 10
    }
   ],
   "metadata": {}
  },
  {
   "cell_type": "code",
   "execution_count": 11,
   "source": [
    "examples = ['Free Viagra call today!', \"I'm going to attend the Linux users group tomorrow.\"]\r\n",
    "example_counts = count_vectorizer.transform(examples)\r\n",
    "predictions = classifier.predict(example_counts)\r\n",
    "predictions"
   ],
   "outputs": [
    {
     "output_type": "execute_result",
     "data": {
      "text/plain": [
       "array([1., 0.])"
      ]
     },
     "metadata": {},
     "execution_count": 11
    }
   ],
   "metadata": {}
  },
  {
   "cell_type": "code",
   "execution_count": 12,
   "source": [
    "example_counts = count_vectorizer.transform(test['text'])\r\n",
    "predictions = classifier.predict(example_counts)\r\n",
    "print('Predictions: ', predictions)"
   ],
   "outputs": [
    {
     "output_type": "stream",
     "name": "stdout",
     "text": [
      "Predictions:  [1. 0. 1. ... 0. 1. 1.]\n"
     ]
    }
   ],
   "metadata": {}
  },
  {
   "cell_type": "code",
   "execution_count": 13,
   "source": [
    "# Accuracy: (tp + tn) / (p + n)\r\n",
    "accuracy = accuracy_score(test['class'], predictions)\r\n",
    "print('Accuracy: %f' % accuracy)"
   ],
   "outputs": [
    {
     "output_type": "stream",
     "name": "stdout",
     "text": [
      "Accuracy: 0.990994\n"
     ]
    }
   ],
   "metadata": {}
  },
  {
   "cell_type": "code",
   "execution_count": 14,
   "source": [
    "# precision tp / (tp + fp)\r\n",
    "precision = precision_score(test['class'], predictions)\r\n",
    "print('Precision: %f' % precision)"
   ],
   "outputs": [
    {
     "output_type": "stream",
     "name": "stdout",
     "text": [
      "Precision: 0.999029\n"
     ]
    }
   ],
   "metadata": {}
  },
  {
   "cell_type": "code",
   "execution_count": 15,
   "source": [
    "# recall: tp / (tp + fn)\r\n",
    "recall = recall_score(test['class'], predictions)\r\n",
    "print('Recall: %f' % recall)"
   ],
   "outputs": [
    {
     "output_type": "stream",
     "name": "stdout",
     "text": [
      "Recall: 0.970755\n"
     ]
    }
   ],
   "metadata": {}
  },
  {
   "cell_type": "code",
   "execution_count": 16,
   "source": [
    "# f1: 2 tp / (2 tp + fp + fn)\r\n",
    "f1 = f1_score(test['class'], predictions)\r\n",
    "print('F1 score: %f' % f1)"
   ],
   "outputs": [
    {
     "output_type": "stream",
     "name": "stdout",
     "text": [
      "F1 score: 0.984689\n"
     ]
    }
   ],
   "metadata": {}
  }
 ],
 "metadata": {
  "orig_nbformat": 4,
  "language_info": {
   "name": "python",
   "version": "3.8.5"
  },
  "kernelspec": {
   "name": "python3",
   "display_name": "Python 3.8.5 64-bit ('base': conda)"
  },
  "interpreter": {
   "hash": "495ac888fa96db5c729fe64987d64509688fa1ed30ba22864555e3e417946f2b"
  }
 },
 "nbformat": 4,
 "nbformat_minor": 2
}