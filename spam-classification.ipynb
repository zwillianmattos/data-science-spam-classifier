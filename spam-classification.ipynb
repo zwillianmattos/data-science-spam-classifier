{
 "cells": [
  {
   "cell_type": "code",
   "execution_count": null,
   "source": [
    "!pip3 install numpy"
   ],
   "outputs": [],
   "metadata": {}
  },
  {
   "cell_type": "code",
   "execution_count": null,
   "source": [
    "import os\r\n",
    "import io\r\n",
    "import numpy as np\r\n",
    "from pandas import DataFrame\r\n",
    "from sklearn.utils import shuffle\r\n",
    "from sklearn.feature_extraction.text import CountVectorizer\r\n",
    "from sklearn.naive_bayes import MultinomialNB\r\n",
    "from sklearn.metrics import accuracy_score\r\n",
    "from sklearn.metrics import precision_score\r\n",
    "from sklearn.metrics import recall_score\r\n",
    "from sklearn.metrics import f1_score"
   ],
   "outputs": [],
   "metadata": {}
  },
  {
   "cell_type": "code",
   "execution_count": null,
   "source": [
    "def read_files(path):\r\n",
    "    for root, dir_names, file_names in os.walk(path):\r\n",
    "        for path in dir_names:\r\n",
    "            read_files(os.path.join(root, path))\r\n",
    "    for file_name in file_names:\r\n",
    "        if file_name not in set(['cmds']):\r\n",
    "            file_path = os.path.join(root, file_name)\r\n",
    "        if os.path.isfile(file_path):\r\n",
    "            past_header, lines = False, []\r\n",
    "            #f = open(file_path)\r\n",
    "            f = io.open(file_path, mode=\"r\", encoding=\"Latin-1\")\r\n",
    "            for line in f:\r\n",
    "                if past_header:\r\n",
    "                    lines.append(line)\r\n",
    "                elif line == '\\n':\r\n",
    "                    past_header = True\r\n",
    "            f.close()\r\n",
    "            yield file_path, '\\n'.join(lines)"
   ],
   "outputs": [],
   "metadata": {}
  },
  {
   "cell_type": "code",
   "execution_count": null,
   "source": [
    "def build_data_frame(path, classification):\r\n",
    "    df = DataFrame({'text': [], 'class': []})\r\n",
    "    for file_name, text in read_files(path):\r\n",
    "        df = df.append(\r\n",
    "            DataFrame({'text': [text], 'class': [classification]}, index=[file_name]))\r\n",
    "    return df"
   ],
   "outputs": [],
   "metadata": {}
  },
  {
   "cell_type": "code",
   "execution_count": null,
   "source": [
    "HAM = 0\r\n",
    "SPAM = 1\r\n",
    "\r\n",
    "SOURCES = [\r\n",
    "    ('data/spam',         SPAM),\r\n",
    "    ('data/spam_2',       SPAM),\r\n",
    "    ('data/easy_ham',     HAM),\r\n",
    "    ('data/hard_ham',     HAM),\r\n",
    "]\r\n",
    "\r\n",
    "data = DataFrame({'text': [], 'class': []})\r\n",
    "for path, classification in SOURCES:\r\n",
    "    data = data.append(build_data_frame(path, classification))"
   ],
   "outputs": [],
   "metadata": {}
  },
  {
   "cell_type": "code",
   "execution_count": null,
   "source": [
    "data = shuffle(data)"
   ],
   "outputs": [],
   "metadata": {}
  },
  {
   "cell_type": "code",
   "execution_count": null,
   "source": [
    "train = data.iloc[:4400]\r\n",
    "test = data.iloc[4400:]"
   ],
   "outputs": [],
   "metadata": {}
  },
  {
   "cell_type": "code",
   "execution_count": null,
   "source": [
    "count_vectorizer = CountVectorizer()\r\n",
    "counts = count_vectorizer.fit_transform(np.asarray(data['text']))"
   ],
   "outputs": [],
   "metadata": {}
  },
  {
   "cell_type": "code",
   "execution_count": null,
   "source": [
    "classifier = MultinomialNB()\r\n",
    "targets = np.asarray(data['class'])\r\n",
    "classifier.fit(counts, targets)"
   ],
   "outputs": [],
   "metadata": {}
  }
 ],
 "metadata": {
  "orig_nbformat": 4,
  "language_info": {
   "name": "plaintext"
  }
 },
 "nbformat": 4,
 "nbformat_minor": 2
}